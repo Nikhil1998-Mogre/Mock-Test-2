{
 "cells": [
  {
   "cell_type": "code",
   "execution_count": 6,
   "id": "e38b09de",
   "metadata": {},
   "outputs": [],
   "source": [
    "s = \"zeetcode\"\n",
    "# s = \"loveleetcode\"\n",
    "# s='aabb'\n"
   ]
  },
  {
   "cell_type": "code",
   "execution_count": 7,
   "id": "31d9a78b",
   "metadata": {},
   "outputs": [
    {
     "name": "stdout",
     "output_type": "stream",
     "text": [
      "0\n"
     ]
    }
   ],
   "source": [
    "f=0\n",
    "for i in range(len(s)):\n",
    "    if s[i] not in (s[i+1:] + s[:i]):\n",
    "        print(i)\n",
    "        f=1\n",
    "        break\n",
    "    else:\n",
    "        pass\n",
    "if f!=1:\n",
    "    print(-1)"
   ]
  },
  {
   "cell_type": "code",
   "execution_count": null,
   "id": "df57dc83",
   "metadata": {},
   "outputs": [],
   "source": []
  }
 ],
 "metadata": {
  "kernelspec": {
   "display_name": "Python 3 (ipykernel)",
   "language": "python",
   "name": "python3"
  },
  "language_info": {
   "codemirror_mode": {
    "name": "ipython",
    "version": 3
   },
   "file_extension": ".py",
   "mimetype": "text/x-python",
   "name": "python",
   "nbconvert_exporter": "python",
   "pygments_lexer": "ipython3",
   "version": "3.10.9"
  }
 },
 "nbformat": 4,
 "nbformat_minor": 5
}
